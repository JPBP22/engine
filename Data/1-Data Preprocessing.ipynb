{
 "cells": [
  {
   "cell_type": "markdown",
   "id": "63a38515",
   "metadata": {},
   "source": [
    "# Data Cleaning"
   ]
  },
  {
   "cell_type": "markdown",
   "id": "7e7848c3",
   "metadata": {},
   "source": [
    "The primary source of our data is the Steam platform, which is one of the most popular digital distribution platforms for PC games. We utilized two different APIs to gather information on games from Steam: https://steamspy.com/ and https://api.steampowered.com. SteamSpy provided us with data such as the number of owners, playtime, and user reviews, while the Steam API provided us with information such as the game's price, release date, and genre.\n",
    "\n",
    "In addition to the data obtained from the Steam platform, we also utilized the Steam User, Item Data, and Meta-data dataset from https://cseweb.ucsd.edu/~jmcauley/datasets.html#steam_data. This dataset includes information on user behavior, such as game ownership, playtime, and review sentiment, as well as metadata on games, such as genre, developer, and publisher.\n",
    "\n",
    "By combining these sources of data, we were able to create a comprehensive dataset that includes information on thousands of games, as well as user behavior and preferences. This dataset serves as the foundation for our machine learning models, which will be used to make personalized game recommendations to users."
   ]
  },
  {
   "cell_type": "markdown",
   "id": "92cb2f32",
   "metadata": {},
   "source": [
    "## Cleaning Items per user."
   ]
  },
  {
   "cell_type": "code",
   "execution_count": 2,
   "id": "d1961909",
   "metadata": {},
   "outputs": [],
   "source": [
    "import pandas as pd\n",
    "import numpy as np\n",
    "import ast\n",
    "import json"
   ]
  },
  {
   "cell_type": "code",
   "execution_count": 1,
   "id": "341196d9",
   "metadata": {},
   "outputs": [],
   "source": [
    "with open(r'Data\\australian_users_items.json') as f:\n",
    "    lines = f.readlines()"
   ]
  },
  {
   "attachments": {},
   "cell_type": "markdown",
   "id": "4b529b8c",
   "metadata": {},
   "source": [
    "Convert the contents of the file \"australian_users_items.json\" into a string in JSON format by joining all the lines in the file with commas, enclosing the resulting string in square brackets, and assigning the final string to the variable newstring."
   ]
  },
  {
   "cell_type": "code",
   "execution_count": null,
   "id": "69f8935c",
   "metadata": {},
   "outputs": [],
   "source": [
    "stringConvert = json.dumps(lines)"
   ]
  },
  {
   "attachments": {},
   "cell_type": "markdown",
   "id": "1d64037a",
   "metadata": {},
   "source": [
    "Convert to JSON"
   ]
  },
  {
   "cell_type": "code",
   "execution_count": null,
   "id": "22709b93",
   "metadata": {},
   "outputs": [],
   "source": [
    "JSONConvert = json.loads(stringConvert)"
   ]
  },
  {
   "attachments": {},
   "cell_type": "markdown",
   "id": "b21ac8b8",
   "metadata": {},
   "source": [
    "Save the JSON file"
   ]
  },
  {
   "cell_type": "code",
   "execution_count": null,
   "id": "d9384830",
   "metadata": {},
   "outputs": [],
   "source": [
    "with open('data.json', 'w') as json_file:\n",
    "    json.dump(JSONConvert, json_file)"
   ]
  },
  {
   "attachments": {},
   "cell_type": "markdown",
   "id": "a21fc826",
   "metadata": {},
   "source": [
    "Convert json to pandas dataframe"
   ]
  },
  {
   "cell_type": "code",
   "execution_count": null,
   "id": "fe6f2068",
   "metadata": {},
   "outputs": [],
   "source": [
    "df = pd.DataFrame(JSONConvert)"
   ]
  },
  {
   "attachments": {},
   "cell_type": "markdown",
   "id": "78e9cc08",
   "metadata": {},
   "source": [
    "# Data Preprocessing"
   ]
  },
  {
   "attachments": {},
   "cell_type": "markdown",
   "id": "849a32b6",
   "metadata": {},
   "source": [
    "In this section, we will describe the data-preprocessing steps we took to create a user-item interactions DataFrame.\n",
    "\n",
    "After cleaning the data, we extracted user IDs and game IDs from the dataset. We then created a user-item interactions DataFrame, with each row representing a particular user-item relationship. Specifically, we included all the games that each user owned, along with the corresponding playtime and review information.\n",
    "\n",
    "To create this user-item interactions DataFrame, we first filtered the data to include only the games that were owned by at least one user. We then extracted the unique user IDs and game IDs from this filtered data.\n",
    "\n",
    "Next, we created an empty DataFrame with columns for user IDs, game IDs, playtime, and review information. We then iterated over each user and game combination and checked if the user had owned the game. If the user had owned the game, we added a row to the DataFrame with the user ID, game ID, and the corresponding playtime and review information.\n",
    "\n",
    "This resulted in a user-item interactions DataFrame that contains all the games that were owned by at least one user, along with the corresponding playtime and review information. This DataFrame serves as the input to our machine learning models, which will use this data to make personalized game recommendations to users based on their preferences and behavior."
   ]
  },
  {
   "attachments": {},
   "cell_type": "markdown",
   "id": "97f1f094",
   "metadata": {},
   "source": [
    "## Data Loading"
   ]
  },
  {
   "attachments": {},
   "cell_type": "markdown",
   "id": "d47cbd14",
   "metadata": {},
   "source": [
    "### Steam games data loading"
   ]
  },
  {
   "attachments": {},
   "cell_type": "markdown",
   "id": "e3511c1c",
   "metadata": {},
   "source": [
    "In this part, the data that we obtained from our API call program will be loaded."
   ]
  },
  {
   "cell_type": "code",
   "execution_count": null,
   "id": "18e62141",
   "metadata": {},
   "outputs": [],
   "source": [
    "df = pd.read_csv('Data/all_games.csv')"
   ]
  },
  {
   "attachments": {},
   "cell_type": "markdown",
   "id": "6c20135c",
   "metadata": {},
   "source": [
    "### Items per User data loading"
   ]
  },
  {
   "attachments": {},
   "cell_type": "markdown",
   "id": "aedece91",
   "metadata": {},
   "source": [
    "Now we load the data that was cleaned in the Data Cleaning part."
   ]
  },
  {
   "cell_type": "code",
   "execution_count": null,
   "id": "e36b0623",
   "metadata": {},
   "outputs": [],
   "source": [
    "itemspuser = pd.read_json('Data/data.json')"
   ]
  },
  {
   "attachments": {},
   "cell_type": "markdown",
   "id": "48ca76b9",
   "metadata": {},
   "source": [
    "## Feature Extraction"
   ]
  },
  {
   "attachments": {},
   "cell_type": "markdown",
   "id": "392c19bd",
   "metadata": {},
   "source": [
    "Creates a new feature in the useritems dataframe called item_ids. For each row in the dataframe, it extracts the item_id from each element in the items list using a list comprehension, and then assigns the resulting list of item ids to the new column."
   ]
  },
  {
   "cell_type": "code",
   "execution_count": null,
   "id": "5476b7cc",
   "metadata": {},
   "outputs": [],
   "source": [
    "itemspuser['item_ids'] = [[item['item_id'] for item in items] for items in itemspuser['items']]"
   ]
  },
  {
   "attachments": {},
   "cell_type": "markdown",
   "id": "081531bd",
   "metadata": {},
   "source": [
    "To make working with user IDs easier, we replaced the unique user steam_id with a new uid counter starting at 0 and incremented by 1 for each new user. We also selected only the relevant columns for building a user-item interactions matrix: the uid and item_id columns. This simplified matrix serves as the basis for our machine learning models to make personalized game recommendations."
   ]
  },
  {
   "cell_type": "code",
   "execution_count": null,
   "id": "201d3ff7",
   "metadata": {},
   "outputs": [],
   "source": [
    "itemspuser['uid'] = np.arange(len(itemspuser))\n",
    "\n",
    "itemspuser = itemspuser[['uid', 'item_id']]"
   ]
  },
  {
   "attachments": {},
   "cell_type": "markdown",
   "id": "6f3f6c5a",
   "metadata": {},
   "source": [
    "We used the pandas explode function to split the item_id column into separate rows, resulting in a new DataFrame where each row represents a single user-item interaction with one uid and one item_id value. This step was necessary to prepare the data for training and testing our machine learning models."
   ]
  },
  {
   "cell_type": "code",
   "execution_count": null,
   "id": "b19903ef",
   "metadata": {},
   "outputs": [],
   "source": [
    "itemspuser = itemspuser.explode('item_ids').reset_index(drop=True)"
   ]
  },
  {
   "attachments": {},
   "cell_type": "markdown",
   "id": "63900142",
   "metadata": {},
   "source": [
    "To simplify our machine learning models, we added a new binary column called \"owned\" to our user-item interactions DataFrame. This column has a value of 1 for every row in the DataFrame, as each row represents a user-item interaction where the user owns the game. This step was necessary because we are only concerned with whether or not a user owns a game, as opposed to the ratings or reviews they may have given the game. By adding the \"owned\" column, we can more easily and efficiently filter the data and focus on owned games in our machine learning models."
   ]
  },
  {
   "cell_type": "code",
   "execution_count": null,
   "id": "9d4f3537",
   "metadata": {},
   "outputs": [],
   "source": [
    "itemspuser['owned'] = 1"
   ]
  },
  {
   "attachments": {},
   "cell_type": "markdown",
   "id": "87494757",
   "metadata": {},
   "source": [
    "To extract relevant information such as genre for our machine learning models, we restricted ourselves to user-item relationships where the game is present in the first \"df\" DataFrame. To ensure that the DataFrames could be merged on the game ID feature, we changed the type and column name of the game ID in the user-item interactions DataFrame to match the type and column name in the \"df\" DataFrame. This step was necessary to merge the two DataFrames and extract relevant information such as genre for our machine learning models."
   ]
  },
  {
   "cell_type": "code",
   "execution_count": null,
   "id": "80737717",
   "metadata": {},
   "outputs": [],
   "source": [
    "itemspuser = itemspuser.astype({'item_id': int}).rename(columns={'item_id': 'id'})"
   ]
  },
  {
   "cell_type": "code",
   "execution_count": null,
   "id": "4a9a9d9e",
   "metadata": {},
   "outputs": [],
   "source": [
    "df.rename(columns={'appid': 'id'}, inplace=True)"
   ]
  },
  {
   "cell_type": "code",
   "execution_count": null,
   "id": "c1a69249",
   "metadata": {},
   "outputs": [],
   "source": [
    "main = pd.merge(itemspuser, df, on = 'id')"
   ]
  },
  {
   "attachments": {},
   "cell_type": "markdown",
   "id": "6068252b",
   "metadata": {},
   "source": [
    "### Further Data Cleaning"
   ]
  },
  {
   "attachments": {},
   "cell_type": "markdown",
   "id": "3a623001",
   "metadata": {},
   "source": [
    "#### Handling Missing values"
   ]
  },
  {
   "cell_type": "code",
   "execution_count": null,
   "id": "0aef33ee",
   "metadata": {},
   "outputs": [],
   "source": [
    "main = main.dropna(axis=0, subset=['game_name'])"
   ]
  },
  {
   "cell_type": "markdown",
   "id": "c6c48b10",
   "metadata": {},
   "source": [
    "### Save Data"
   ]
  },
  {
   "cell_type": "code",
   "execution_count": null,
   "id": "3f8021f5",
   "metadata": {},
   "outputs": [],
   "source": [
    "main.to_csv('Data/main.csv', index=False)"
   ]
  },
  {
   "cell_type": "code",
   "execution_count": null,
   "id": "9c8c7a4b",
   "metadata": {},
   "outputs": [],
   "source": [
    "dataForRec = main[['uid','id','owned']]"
   ]
  },
  {
   "cell_type": "code",
   "execution_count": null,
   "id": "becbeef0",
   "metadata": {},
   "outputs": [],
   "source": [
    "dataForRec.to_csv('recdata.csv')"
   ]
  }
 ],
 "metadata": {
  "kernelspec": {
   "display_name": "Python 3 (ipykernel)",
   "language": "python",
   "name": "python3"
  },
  "language_info": {
   "codemirror_mode": {
    "name": "ipython",
    "version": 3
   },
   "file_extension": ".py",
   "mimetype": "text/x-python",
   "name": "python",
   "nbconvert_exporter": "python",
   "pygments_lexer": "ipython3",
   "version": "3.8.16"
  }
 },
 "nbformat": 4,
 "nbformat_minor": 5
}
