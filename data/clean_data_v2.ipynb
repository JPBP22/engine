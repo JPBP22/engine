{
 "cells": [
  {
   "cell_type": "code",
   "execution_count": 1,
   "metadata": {},
   "outputs": [],
   "source": [
    "import pandas as pd\n",
    "import re"
   ]
  },
  {
   "cell_type": "code",
   "execution_count": 3,
   "metadata": {},
   "outputs": [],
   "source": [
    "# We filter demo games from the all_games_v3.csv file\n",
    "def filter_demo(file_in, file_out):\n",
    "    df = pd.read_csv(file_in)\n",
    "    df.fillna('', inplace=True)\n",
    "    regex = re.compile(r'\\b(demo)\\b', re.IGNORECASE)\n",
    "    df = df[df['name'].str.contains(regex)]\n",
    "    df.to_csv(file_out, index=False)\n",
    "\n",
    "filter_demo('all_games_v3.csv', 'all_games_demos.csv')"
   ]
  },
  {
   "cell_type": "code",
   "execution_count": 4,
   "metadata": {},
   "outputs": [],
   "source": [
    "# We filter dlc from the all_games_v3.csv file\n",
    "def filter_dlc(file_in, file_out):\n",
    "    df = pd.read_csv(file_in)\n",
    "    df.fillna('', inplace=True)\n",
    "    regex = re.compile(r'\\b(dlc)\\b', re.IGNORECASE)\n",
    "    df = df[df['name'].str.contains(regex)]\n",
    "    df.to_csv(file_out, index=False)\n",
    "\n",
    "filter_dlc('all_games_v3.csv', 'all_games_dlc.csv')"
   ]
  },
  {
   "cell_type": "code",
   "execution_count": 7,
   "metadata": {},
   "outputs": [
    {
     "name": "stderr",
     "output_type": "stream",
     "text": [
      "/Users/jpb/opt/anaconda3/lib/python3.8/site-packages/pandas/core/strings.py:2001: UserWarning: This pattern has match groups. To actually get the groups, use str.extract.\n",
      "  return func(self, *args, **kwargs)\n"
     ]
    }
   ],
   "source": [
    "# We filter OST & SOundtracks from the all_games_v3.csv file\n",
    "def filter_OST(file_in, file_out):\n",
    "    df = pd.read_csv(file_in)\n",
    "    df.fillna('', inplace=True)\n",
    "    regex = re.compile(r'\\b(OST|Soundtrack|Sound Track|Sound-track)\\b', re.IGNORECASE)\n",
    "    df = df[df['name'].str.contains(regex)]\n",
    "    df.to_csv(file_out, index=False)\n",
    "\n",
    "filter_OST('all_games_v3.csv', 'all_games_OST_soundTrack.csv')"
   ]
  }
 ],
 "metadata": {
  "kernelspec": {
   "display_name": "Python 3.10.8 64-bit",
   "language": "python",
   "name": "python3"
  },
  "language_info": {
   "codemirror_mode": {
    "name": "ipython",
    "version": 3
   },
   "file_extension": ".py",
   "mimetype": "text/x-python",
   "name": "python",
   "nbconvert_exporter": "python",
   "pygments_lexer": "ipython3",
   "version": "3.10.8"
  },
  "orig_nbformat": 4,
  "vscode": {
   "interpreter": {
    "hash": "b0fa6594d8f4cbf19f97940f81e996739fb7646882a419484c72d19e05852a7e"
   }
  }
 },
 "nbformat": 4,
 "nbformat_minor": 2
}
