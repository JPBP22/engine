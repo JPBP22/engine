{
 "cells": [
  {
   "cell_type": "code",
   "execution_count": null,
   "metadata": {},
   "outputs": [],
   "source": [
    "# Combine all the data, both games and game details\n",
    "import aiohttp\n",
    "import asyncio\n",
    "import pandas as pd\n",
    "\n",
    "async def fetch_game_details(session, appid):\n",
    "    async with session.get(f\"https://steamspy.com/api.php?request=appdetails&appid={appid}\") as resp:\n",
    "        return await resp.json()\n",
    "\n",
    "async def fetch_games(session):\n",
    "    async with session.get(\"https://api.steampowered.com/ISteamApps/GetAppList/v2\") as resp:\n",
    "        return await resp.json()\n",
    "\n",
    "async def save_games_to_csv(session,games):\n",
    "    games_data = []\n",
    "    for game in games[\"applist\"][\"apps\"]:\n",
    "        game_details = await fetch_game_details(session, game[\"appid\"])\n",
    "        if game_details:\n",
    "            data = game_details\n",
    "            games_data.append((game[\"appid\"], game[\"name\"], data.get(\"price\", \"0\"), data.get(\"developer\", \"\"), data.get(\"publisher\", \"\"), data.get(\"average_forever\", 0), data.get(\"median_forever\", 0), data.get(\"ccu\", 0), data.get(\"genre\", []), data.get(\"languages\", []), data.get(\"score_rank\", 0)))\n",
    "\n",
    "    df = pd.DataFrame(games_data, columns=[\"appid\", \"name\", \"price\", \"developer\", \"publisher\", \"average_forever\", \"median_forever\", \"ccu\", \"genres\", \"score_rank\", \"languages\", \"score_rannk\"])\n",
    "    df.to_csv(\"all_games.csv\", index=False)\n",
    "    return df\n",
    "\n",
    "async def main():\n",
    "    async with aiohttp.ClientSession() as session:\n",
    "        games = await fetch_games(session)\n",
    "        await save_games_to_csv(session, games)\n",
    "\n",
    "if __name__ == \"__main__\":\n",
    "    await main()"
   ]
  }
 ],
 "metadata": {
  "kernelspec": {
   "display_name": "reco",
   "language": "python",
   "name": "python3"
  },
  "language_info": {
   "codemirror_mode": {
    "name": "ipython",
    "version": 3
   },
   "file_extension": ".py",
   "mimetype": "text/x-python",
   "name": "python",
   "nbconvert_exporter": "python",
   "pygments_lexer": "ipython3",
   "version": "3.9.16"
  },
  "orig_nbformat": 4,
  "vscode": {
   "interpreter": {
    "hash": "33fc969e8aecb9f9eca8f8b971b4122443ba3dd4486b40288e8a8bcd01410d5f"
   }
  }
 },
 "nbformat": 4,
 "nbformat_minor": 2
}
